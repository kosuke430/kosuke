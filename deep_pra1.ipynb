{
  "nbformat": 4,
  "nbformat_minor": 0,
  "metadata": {
    "colab": {
      "name": "deep pra1.ipynb",
      "provenance": [],
      "authorship_tag": "ABX9TyMk7+c1T0bk1C5i9zkxQBxH",
      "include_colab_link": true
    },
    "kernelspec": {
      "name": "python3",
      "display_name": "Python 3"
    },
    "language_info": {
      "name": "python"
    }
  },
  "cells": [
    {
      "cell_type": "markdown",
      "metadata": {
        "id": "view-in-github",
        "colab_type": "text"
      },
      "source": [
        "<a href=\"https://colab.research.google.com/github/kosuke430/kosuke/blob/main/deep_pra1.ipynb\" target=\"_parent\"><img src=\"https://colab.research.google.com/assets/colab-badge.svg\" alt=\"Open In Colab\"/></a>"
      ]
    },
    {
      "cell_type": "markdown",
      "metadata": {
        "id": "praHd4xmUFtI"
      },
      "source": [
        "画像データの読み込み\n",
        "今回はデータセット収集の手間を省く為に簡単な数字列のデータセット群のmnistを利用"
      ]
    },
    {
      "cell_type": "code",
      "metadata": {
        "id": "isfrrAfTT4MK"
      },
      "source": [
        "import numpy as np\n",
        "import tensorflow as tf\n",
        "import glob\n",
        "\n",
        "(x_train,y_train),(x_test,y_test)=tf.keras.datasets.mnist.load_data()"
      ],
      "execution_count": 9,
      "outputs": []
    },
    {
      "cell_type": "code",
      "metadata": {
        "id": "IPSy3GWww7AX"
      },
      "source": [
        "x_test"
      ],
      "execution_count": null,
      "outputs": []
    },
    {
      "cell_type": "markdown",
      "metadata": {
        "id": "1phz4XC_lqea"
      },
      "source": [
        "入力データの加工"
      ]
    },
    {
      "cell_type": "code",
      "metadata": {
        "id": "zRMcLDDEed5N"
      },
      "source": [
        "x_train  = x_train.reshape(60000, 784)\n",
        "x_test   = x_test.reshape(10000, 784)\n",
        "x_train = x_train.astype('float32')\n",
        "x_test  = x_test.astype('float32')\n",
        "x_train /= 255\n",
        "x_test  /= 255"
      ],
      "execution_count": 10,
      "outputs": []
    },
    {
      "cell_type": "markdown",
      "metadata": {
        "id": "wk1mwoWlYeaG"
      },
      "source": [
        "ニューラルネットワークの構築"
      ]
    },
    {
      "cell_type": "code",
      "metadata": {
        "id": "GVMW-8GqX37f"
      },
      "source": [
        "model=tf.keras.models.Sequential([\n",
        "    tf.keras.layers.Flatten(input_shape=(100,100,3)),\n",
        "    tf.keras.layers.Dense(64,activation=\"relu\"),\n",
        "    tf.keras.layers.Dropout(0,2),\n",
        "    tf.keras.layers.Dense(3,activation=\"softmax\")\n",
        "\n",
        "])"
      ],
      "execution_count": 11,
      "outputs": []
    },
    {
      "cell_type": "markdown",
      "metadata": {
        "id": "KnQcbOSNad8a"
      },
      "source": [
        "学習の実行"
      ]
    },
    {
      "cell_type": "code",
      "metadata": {
        "colab": {
          "base_uri": "https://localhost:8080/"
        },
        "id": "xnSRwJceajoy",
        "outputId": "f3c5d2b8-f975-4a14-f8fc-b883d753d058"
      },
      "source": [
        "model.compile(optimizer=\"adam\",loss=\"sparse_categorical_crossentropy\",metrics=[\"accuracy\"])\n",
        "\n",
        "try:\n",
        "    model.fit(x_train,y_train,epochs=10)\n",
        "except ValueError as error:\n",
        "    print(error)"
      ],
      "execution_count": 12,
      "outputs": [
        {
          "output_type": "stream",
          "text": [
            "Epoch 1/10\n",
            "WARNING:tensorflow:Model was constructed with shape (None, 100, 100, 3) for input KerasTensor(type_spec=TensorSpec(shape=(None, 100, 100, 3), dtype=tf.float32, name='flatten_input'), name='flatten_input', description=\"created by layer 'flatten_input'\"), but it was called on an input with incompatible shape (32, 784).\n",
            "in user code:\n",
            "\n",
            "    /usr/local/lib/python3.7/dist-packages/tensorflow/python/keras/engine/training.py:855 train_function  *\n",
            "        return step_function(self, iterator)\n",
            "    /usr/local/lib/python3.7/dist-packages/tensorflow/python/keras/engine/training.py:845 step_function  **\n",
            "        outputs = model.distribute_strategy.run(run_step, args=(data,))\n",
            "    /usr/local/lib/python3.7/dist-packages/tensorflow/python/distribute/distribute_lib.py:1285 run\n",
            "        return self._extended.call_for_each_replica(fn, args=args, kwargs=kwargs)\n",
            "    /usr/local/lib/python3.7/dist-packages/tensorflow/python/distribute/distribute_lib.py:2833 call_for_each_replica\n",
            "        return self._call_for_each_replica(fn, args, kwargs)\n",
            "    /usr/local/lib/python3.7/dist-packages/tensorflow/python/distribute/distribute_lib.py:3608 _call_for_each_replica\n",
            "        return fn(*args, **kwargs)\n",
            "    /usr/local/lib/python3.7/dist-packages/tensorflow/python/keras/engine/training.py:838 run_step  **\n",
            "        outputs = model.train_step(data)\n",
            "    /usr/local/lib/python3.7/dist-packages/tensorflow/python/keras/engine/training.py:795 train_step\n",
            "        y_pred = self(x, training=True)\n",
            "    /usr/local/lib/python3.7/dist-packages/tensorflow/python/keras/engine/base_layer.py:1030 __call__\n",
            "        outputs = call_fn(inputs, *args, **kwargs)\n",
            "    /usr/local/lib/python3.7/dist-packages/tensorflow/python/keras/engine/sequential.py:380 call\n",
            "        return super(Sequential, self).call(inputs, training=training, mask=mask)\n",
            "    /usr/local/lib/python3.7/dist-packages/tensorflow/python/keras/engine/functional.py:421 call\n",
            "        inputs, training=training, mask=mask)\n",
            "    /usr/local/lib/python3.7/dist-packages/tensorflow/python/keras/engine/functional.py:556 _run_internal_graph\n",
            "        outputs = node.layer(*args, **kwargs)\n",
            "    /usr/local/lib/python3.7/dist-packages/tensorflow/python/keras/engine/base_layer.py:1013 __call__\n",
            "        input_spec.assert_input_compatibility(self.input_spec, inputs, self.name)\n",
            "    /usr/local/lib/python3.7/dist-packages/tensorflow/python/keras/engine/input_spec.py:255 assert_input_compatibility\n",
            "        ' but received input with shape ' + display_shape(x.shape))\n",
            "\n",
            "    ValueError: Input 0 of layer dense is incompatible with the layer: expected axis -1 of input shape to have value 30000 but received input with shape (32, 784)\n",
            "\n"
          ],
          "name": "stdout"
        }
      ]
    }
  ]
}